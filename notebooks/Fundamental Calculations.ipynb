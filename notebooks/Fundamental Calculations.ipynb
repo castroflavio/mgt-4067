{
 "cells": [
  {
   "cell_type": "code",
   "execution_count": 2,
   "id": "interested-metallic",
   "metadata": {},
   "outputs": [
    {
     "name": "stdout",
     "output_type": "stream",
     "text": [
      "Collecting yfinance\n",
      "  Downloading yfinance-0.1.55.tar.gz (23 kB)\n",
      "Requirement already satisfied: requests>=2.20 in /opt/conda/lib/python3.8/site-packages (from yfinance) (2.25.1)\n",
      "Collecting lxml>=4.5.1\n",
      "  Downloading lxml-4.6.2-cp38-cp38-manylinux1_x86_64.whl (5.4 MB)\n",
      "\u001b[K     |████████████████████████████████| 5.4 MB 2.2 MB/s eta 0:00:01     |█████████████████████████▌      | 4.3 MB 2.2 MB/s eta 0:00:01\n",
      "\u001b[?25hCollecting multitasking>=0.0.7\n",
      "  Downloading multitasking-0.0.9.tar.gz (8.1 kB)\n",
      "Collecting numpy>=1.15\n",
      "  Downloading numpy-1.19.5-cp38-cp38-manylinux2010_x86_64.whl (14.9 MB)\n",
      "\u001b[K     |████████████████████████████████| 14.9 MB 1.2 MB/s eta 0:00:01    |███▋                            | 1.7 MB 2.4 MB/s eta 0:00:06     |████████████▍                   | 5.7 MB 2.6 MB/s eta 0:00:04     |█████████████▏                  | 6.1 MB 2.6 MB/s eta 0:00:04\n",
      "\u001b[?25hCollecting pandas>=0.24\n",
      "  Downloading pandas-1.2.1-cp38-cp38-manylinux1_x86_64.whl (9.7 MB)\n",
      "\u001b[K     |████████████████████████████████| 9.7 MB 361 kB/s eta 0:00:01     |████████████▋                   | 3.8 MB 1.3 MB/s eta 0:00:05     |█████████████████▋              | 5.3 MB 1.5 MB/s eta 0:00:03     |████████████████████▉           | 6.3 MB 1.5 MB/s eta 0:00:03\n",
      "\u001b[?25hRequirement already satisfied: python-dateutil>=2.7.3 in /opt/conda/lib/python3.8/site-packages (from pandas>=0.24->yfinance) (2.8.1)\n",
      "Requirement already satisfied: six>=1.5 in /opt/conda/lib/python3.8/site-packages (from python-dateutil>=2.7.3->pandas>=0.24->yfinance) (1.15.0)\n",
      "Collecting pytz>=2017.3\n",
      "  Downloading pytz-2020.5-py2.py3-none-any.whl (510 kB)\n",
      "\u001b[K     |████████████████████████████████| 510 kB 1.1 MB/s eta 0:00:01\n",
      "\u001b[?25hRequirement already satisfied: certifi>=2017.4.17 in /opt/conda/lib/python3.8/site-packages (from requests>=2.20->yfinance) (2020.12.5)\n",
      "Requirement already satisfied: urllib3<1.27,>=1.21.1 in /opt/conda/lib/python3.8/site-packages (from requests>=2.20->yfinance) (1.26.2)\n",
      "Requirement already satisfied: idna<3,>=2.5 in /opt/conda/lib/python3.8/site-packages (from requests>=2.20->yfinance) (2.10)\n",
      "Requirement already satisfied: chardet<5,>=3.0.2 in /opt/conda/lib/python3.8/site-packages (from requests>=2.20->yfinance) (4.0.0)\n",
      "Building wheels for collected packages: yfinance, multitasking\n",
      "  Building wheel for yfinance (setup.py) ... \u001b[?25ldone\n",
      "\u001b[?25h  Created wheel for yfinance: filename=yfinance-0.1.55-py2.py3-none-any.whl size=22616 sha256=b47357754ef4cdbf7ddf723a8733cc0c7bb84ee8dd969aab01c83eef18999a9d\n",
      "  Stored in directory: /home/jovyan/.cache/pip/wheels/b4/c3/39/9c01ae2b4726f37024bba5592bec868b47a2fab5a786e8979a\n",
      "  Building wheel for multitasking (setup.py) ... \u001b[?25ldone\n",
      "\u001b[?25h  Created wheel for multitasking: filename=multitasking-0.0.9-py3-none-any.whl size=8368 sha256=848057d68c05fc92222a2dfcbf3f20568e221995c84965f1ae54eb361ce4f523\n",
      "  Stored in directory: /home/jovyan/.cache/pip/wheels/57/6d/a3/a39b839cc75274d2acfb1c58bfead2f726c6577fe8c4723f13\n",
      "Successfully built yfinance multitasking\n",
      "Installing collected packages: pytz, numpy, pandas, multitasking, lxml, yfinance\n",
      "Successfully installed lxml-4.6.2 multitasking-0.0.9 numpy-1.19.5 pandas-1.2.1 pytz-2020.5 yfinance-0.1.55\n"
     ]
    }
   ],
   "source": [
    "import sys\n",
    "!{sys.executable} -m pip install yfinance"
   ]
  },
  {
   "cell_type": "markdown",
   "id": "skilled-prophet",
   "metadata": {},
   "source": [
    "* Choose your favorite Stock\n",
    "* Download its price series for the last 1 year\n",
    "* Calculate daily returns\n",
    "* Calculate the average of daily returns (multiply by 252 to make it annual)\n",
    "* Calculate the daily variance and volatility\n"
   ]
  },
  {
   "cell_type": "code",
   "execution_count": 22,
   "id": "challenging-hollywood",
   "metadata": {},
   "outputs": [
    {
     "name": "stdout",
     "output_type": "stream",
     "text": [
      "[*********************100%***********************]  1 of 1 completed\n"
     ]
    },
    {
     "data": {
      "text/html": [
       "<div>\n",
       "<style scoped>\n",
       "    .dataframe tbody tr th:only-of-type {\n",
       "        vertical-align: middle;\n",
       "    }\n",
       "\n",
       "    .dataframe tbody tr th {\n",
       "        vertical-align: top;\n",
       "    }\n",
       "\n",
       "    .dataframe thead th {\n",
       "        text-align: right;\n",
       "    }\n",
       "</style>\n",
       "<table border=\"1\" class=\"dataframe\">\n",
       "  <thead>\n",
       "    <tr style=\"text-align: right;\">\n",
       "      <th></th>\n",
       "      <th>Open</th>\n",
       "      <th>High</th>\n",
       "      <th>Low</th>\n",
       "      <th>Close</th>\n",
       "      <th>Adj Close</th>\n",
       "      <th>Volume</th>\n",
       "    </tr>\n",
       "    <tr>\n",
       "      <th>Date</th>\n",
       "      <th></th>\n",
       "      <th></th>\n",
       "      <th></th>\n",
       "      <th></th>\n",
       "      <th></th>\n",
       "      <th></th>\n",
       "    </tr>\n",
       "  </thead>\n",
       "  <tbody>\n",
       "    <tr>\n",
       "      <th>2019-08-01</th>\n",
       "      <td>53.474998</td>\n",
       "      <td>54.507500</td>\n",
       "      <td>51.685001</td>\n",
       "      <td>52.107498</td>\n",
       "      <td>51.311756</td>\n",
       "      <td>216071600</td>\n",
       "    </tr>\n",
       "    <tr>\n",
       "      <th>2019-08-02</th>\n",
       "      <td>51.382500</td>\n",
       "      <td>51.607498</td>\n",
       "      <td>50.407501</td>\n",
       "      <td>51.005001</td>\n",
       "      <td>50.226093</td>\n",
       "      <td>163448400</td>\n",
       "    </tr>\n",
       "    <tr>\n",
       "      <th>2019-08-05</th>\n",
       "      <td>49.497501</td>\n",
       "      <td>49.662498</td>\n",
       "      <td>48.145000</td>\n",
       "      <td>48.334999</td>\n",
       "      <td>47.596859</td>\n",
       "      <td>209572000</td>\n",
       "    </tr>\n",
       "    <tr>\n",
       "      <th>2019-08-06</th>\n",
       "      <td>49.077499</td>\n",
       "      <td>49.517502</td>\n",
       "      <td>48.509998</td>\n",
       "      <td>49.250000</td>\n",
       "      <td>48.497894</td>\n",
       "      <td>143299200</td>\n",
       "    </tr>\n",
       "    <tr>\n",
       "      <th>2019-08-07</th>\n",
       "      <td>48.852501</td>\n",
       "      <td>49.889999</td>\n",
       "      <td>48.455002</td>\n",
       "      <td>49.759998</td>\n",
       "      <td>49.000103</td>\n",
       "      <td>133457600</td>\n",
       "    </tr>\n",
       "    <tr>\n",
       "      <th>...</th>\n",
       "      <td>...</td>\n",
       "      <td>...</td>\n",
       "      <td>...</td>\n",
       "      <td>...</td>\n",
       "      <td>...</td>\n",
       "      <td>...</td>\n",
       "    </tr>\n",
       "    <tr>\n",
       "      <th>2020-07-27</th>\n",
       "      <td>93.709999</td>\n",
       "      <td>94.904999</td>\n",
       "      <td>93.480003</td>\n",
       "      <td>94.809998</td>\n",
       "      <td>94.476364</td>\n",
       "      <td>121214000</td>\n",
       "    </tr>\n",
       "    <tr>\n",
       "      <th>2020-07-28</th>\n",
       "      <td>94.367500</td>\n",
       "      <td>94.550003</td>\n",
       "      <td>93.247498</td>\n",
       "      <td>93.252502</td>\n",
       "      <td>92.924355</td>\n",
       "      <td>103625600</td>\n",
       "    </tr>\n",
       "    <tr>\n",
       "      <th>2020-07-29</th>\n",
       "      <td>93.750000</td>\n",
       "      <td>95.230003</td>\n",
       "      <td>93.712502</td>\n",
       "      <td>95.040001</td>\n",
       "      <td>94.705559</td>\n",
       "      <td>90329200</td>\n",
       "    </tr>\n",
       "    <tr>\n",
       "      <th>2020-07-30</th>\n",
       "      <td>94.187500</td>\n",
       "      <td>96.297501</td>\n",
       "      <td>93.767502</td>\n",
       "      <td>96.190002</td>\n",
       "      <td>95.851517</td>\n",
       "      <td>158130000</td>\n",
       "    </tr>\n",
       "    <tr>\n",
       "      <th>2020-07-31</th>\n",
       "      <td>102.885002</td>\n",
       "      <td>106.415001</td>\n",
       "      <td>100.824997</td>\n",
       "      <td>106.260002</td>\n",
       "      <td>105.886086</td>\n",
       "      <td>374336800</td>\n",
       "    </tr>\n",
       "  </tbody>\n",
       "</table>\n",
       "<p>253 rows × 6 columns</p>\n",
       "</div>"
      ],
      "text/plain": [
       "                  Open        High         Low       Close   Adj Close  \\\n",
       "Date                                                                     \n",
       "2019-08-01   53.474998   54.507500   51.685001   52.107498   51.311756   \n",
       "2019-08-02   51.382500   51.607498   50.407501   51.005001   50.226093   \n",
       "2019-08-05   49.497501   49.662498   48.145000   48.334999   47.596859   \n",
       "2019-08-06   49.077499   49.517502   48.509998   49.250000   48.497894   \n",
       "2019-08-07   48.852501   49.889999   48.455002   49.759998   49.000103   \n",
       "...                ...         ...         ...         ...         ...   \n",
       "2020-07-27   93.709999   94.904999   93.480003   94.809998   94.476364   \n",
       "2020-07-28   94.367500   94.550003   93.247498   93.252502   92.924355   \n",
       "2020-07-29   93.750000   95.230003   93.712502   95.040001   94.705559   \n",
       "2020-07-30   94.187500   96.297501   93.767502   96.190002   95.851517   \n",
       "2020-07-31  102.885002  106.415001  100.824997  106.260002  105.886086   \n",
       "\n",
       "               Volume  \n",
       "Date                   \n",
       "2019-08-01  216071600  \n",
       "2019-08-02  163448400  \n",
       "2019-08-05  209572000  \n",
       "2019-08-06  143299200  \n",
       "2019-08-07  133457600  \n",
       "...               ...  \n",
       "2020-07-27  121214000  \n",
       "2020-07-28  103625600  \n",
       "2020-07-29   90329200  \n",
       "2020-07-30  158130000  \n",
       "2020-07-31  374336800  \n",
       "\n",
       "[253 rows x 6 columns]"
      ]
     },
     "execution_count": 22,
     "metadata": {},
     "output_type": "execute_result"
    }
   ],
   "source": [
    "import yfinance as yf\n",
    "# Get the data of the stock AAPL\n",
    "data = yf.download('AAPL','2019-08-01','2020-08-01')\n",
    "data"
   ]
  },
  {
   "cell_type": "code",
   "execution_count": 67,
   "id": "retained-dryer",
   "metadata": {},
   "outputs": [],
   "source": [
    "import pandas as pd"
   ]
  },
  {
   "cell_type": "code",
   "execution_count": 23,
   "id": "fatal-nepal",
   "metadata": {},
   "outputs": [
    {
     "data": {
      "text/plain": [
       "Date\n",
       "2019-08-01         NaN\n",
       "2019-08-02   -0.021158\n",
       "2019-08-05   -0.052348\n",
       "2019-08-06    0.018930\n",
       "2019-08-07    0.010355\n",
       "                ...   \n",
       "2020-07-27    0.023700\n",
       "2020-07-28   -0.016428\n",
       "2020-07-29    0.019168\n",
       "2020-07-30    0.012100\n",
       "2020-07-31    0.104689\n",
       "Name: Close, Length: 253, dtype: float64"
      ]
     },
     "execution_count": 23,
     "metadata": {},
     "output_type": "execute_result"
    }
   ],
   "source": [
    "daily_returns = data['Close'].pct_change(1)\n",
    "daily_returns"
   ]
  },
  {
   "cell_type": "code",
   "execution_count": 57,
   "id": "broad-disney",
   "metadata": {},
   "outputs": [
    {
     "name": "stdout",
     "output_type": "stream",
     "text": [
      "Annual return: 0.8020678136889838\n"
     ]
    }
   ],
   "source": [
    "annual_return=daily_returns.mean()*252\n",
    "print(\"Annual return: %s\" % annual_return)"
   ]
  },
  {
   "cell_type": "code",
   "execution_count": 60,
   "id": "raising-interface",
   "metadata": {},
   "outputs": [
    {
     "name": "stdout",
     "output_type": "stream",
     "text": [
      "Variance: 0.17694214427680652\n"
     ]
    }
   ],
   "source": [
    "print(\"Variance: %s\" % (daily_returns.var(ddof=0)*252) )"
   ]
  },
  {
   "cell_type": "code",
   "execution_count": 54,
   "id": "saved-petroleum",
   "metadata": {},
   "outputs": [
    {
     "name": "stdout",
     "output_type": "stream",
     "text": [
      "Variance: 0.4214820198523133\n"
     ]
    }
   ],
   "source": [
    "print(\"Volatility: %s\" % (daily_returns.std()*(252**0.5)) )"
   ]
  },
  {
   "cell_type": "code",
   "execution_count": 55,
   "id": "noble-demonstration",
   "metadata": {},
   "outputs": [
    {
     "name": "stdout",
     "output_type": "stream",
     "text": [
      "sharpe ratio: 1.902970413708341\n"
     ]
    }
   ],
   "source": [
    "print(\"sharpe ratio: %s\" % (annual_return/(daily_returns.std()*(252**0.5))) )"
   ]
  },
  {
   "cell_type": "markdown",
   "id": "cardiac-colony",
   "metadata": {},
   "source": [
    "## Part 2"
   ]
  },
  {
   "cell_type": "code",
   "execution_count": 87,
   "id": "guilty-storage",
   "metadata": {},
   "outputs": [
    {
     "name": "stdout",
     "output_type": "stream",
     "text": [
      "[*********************100%***********************]  1 of 1 completed\n",
      "[*********************100%***********************]  1 of 1 completed\n"
     ]
    },
    {
     "data": {
      "text/html": [
       "<div>\n",
       "<style scoped>\n",
       "    .dataframe tbody tr th:only-of-type {\n",
       "        vertical-align: middle;\n",
       "    }\n",
       "\n",
       "    .dataframe tbody tr th {\n",
       "        vertical-align: top;\n",
       "    }\n",
       "\n",
       "    .dataframe thead th {\n",
       "        text-align: right;\n",
       "    }\n",
       "</style>\n",
       "<table border=\"1\" class=\"dataframe\">\n",
       "  <thead>\n",
       "    <tr style=\"text-align: right;\">\n",
       "      <th></th>\n",
       "      <th>SPY</th>\n",
       "      <th>AAPL</th>\n",
       "    </tr>\n",
       "    <tr>\n",
       "      <th>Date</th>\n",
       "      <th></th>\n",
       "      <th></th>\n",
       "    </tr>\n",
       "  </thead>\n",
       "  <tbody>\n",
       "    <tr>\n",
       "      <th>2019-08-01</th>\n",
       "      <td>286.694855</td>\n",
       "      <td>51.311756</td>\n",
       "    </tr>\n",
       "    <tr>\n",
       "      <th>2019-08-02</th>\n",
       "      <td>284.536194</td>\n",
       "      <td>50.226093</td>\n",
       "    </tr>\n",
       "    <tr>\n",
       "      <th>2019-08-05</th>\n",
       "      <td>275.979279</td>\n",
       "      <td>47.596859</td>\n",
       "    </tr>\n",
       "    <tr>\n",
       "      <th>2019-08-06</th>\n",
       "      <td>279.849335</td>\n",
       "      <td>48.497894</td>\n",
       "    </tr>\n",
       "    <tr>\n",
       "      <th>2019-08-07</th>\n",
       "      <td>280.014648</td>\n",
       "      <td>49.000103</td>\n",
       "    </tr>\n",
       "    <tr>\n",
       "      <th>...</th>\n",
       "      <td>...</td>\n",
       "      <td>...</td>\n",
       "    </tr>\n",
       "    <tr>\n",
       "      <th>2020-07-27</th>\n",
       "      <td>320.564850</td>\n",
       "      <td>94.476364</td>\n",
       "    </tr>\n",
       "    <tr>\n",
       "      <th>2020-07-28</th>\n",
       "      <td>318.531708</td>\n",
       "      <td>92.924355</td>\n",
       "    </tr>\n",
       "    <tr>\n",
       "      <th>2020-07-29</th>\n",
       "      <td>322.449249</td>\n",
       "      <td>94.705559</td>\n",
       "    </tr>\n",
       "    <tr>\n",
       "      <th>2020-07-30</th>\n",
       "      <td>321.298767</td>\n",
       "      <td>95.851517</td>\n",
       "    </tr>\n",
       "    <tr>\n",
       "      <th>2020-07-31</th>\n",
       "      <td>323.837738</td>\n",
       "      <td>105.886086</td>\n",
       "    </tr>\n",
       "  </tbody>\n",
       "</table>\n",
       "<p>253 rows × 2 columns</p>\n",
       "</div>"
      ],
      "text/plain": [
       "                   SPY        AAPL\n",
       "Date                              \n",
       "2019-08-01  286.694855   51.311756\n",
       "2019-08-02  284.536194   50.226093\n",
       "2019-08-05  275.979279   47.596859\n",
       "2019-08-06  279.849335   48.497894\n",
       "2019-08-07  280.014648   49.000103\n",
       "...                ...         ...\n",
       "2020-07-27  320.564850   94.476364\n",
       "2020-07-28  318.531708   92.924355\n",
       "2020-07-29  322.449249   94.705559\n",
       "2020-07-30  321.298767   95.851517\n",
       "2020-07-31  323.837738  105.886086\n",
       "\n",
       "[253 rows x 2 columns]"
      ]
     },
     "execution_count": 87,
     "metadata": {},
     "output_type": "execute_result"
    }
   ],
   "source": [
    "spy = yf.download('SPY','2019-08-01','2020-08-01').rename( columns={'Adj Close': 'SPY'} )[['SPY']]\n",
    "aapl = yf.download('AAPL','2019-08-01','2020-08-01').rename( columns={'Adj Close': 'AAPL'} )[['AAPL']]\n",
    "stocks = pd.concat([ spy, aapl], axis=1)\n",
    "stocks"
   ]
  },
  {
   "cell_type": "code",
   "execution_count": 88,
   "id": "lesser-collective",
   "metadata": {},
   "outputs": [],
   "source": [
    "stocks['Ret SPY'] = stocks['SPY'].pct_change(1)\n",
    "stocks['Ret AAPL'] = stocks['AAPL'].pct_change(1)"
   ]
  },
  {
   "cell_type": "code",
   "execution_count": 105,
   "id": "downtown-cargo",
   "metadata": {},
   "outputs": [
    {
     "name": "stdout",
     "output_type": "stream",
     "text": [
      "Covariance: 0.1203530331309105\n"
     ]
    }
   ],
   "source": [
    "covariance = stocks.cov(ddof=0)['Ret SPY']['Ret AAPL']*252\n",
    "print(\"Covariance: %s\" % (covariance) )"
   ]
  },
  {
   "cell_type": "code",
   "execution_count": 106,
   "id": "descending-diamond",
   "metadata": {},
   "outputs": [
    {
     "name": "stdout",
     "output_type": "stream",
     "text": [
      "Market Variance: 0.10656329968698726\n"
     ]
    }
   ],
   "source": [
    "market_variance = stocks['Ret SPY'].var(ddof=0)*252\n",
    "print(\"Market Variance: %s\" % market_variance )"
   ]
  },
  {
   "cell_type": "code",
   "execution_count": 107,
   "id": "aware-tamil",
   "metadata": {},
   "outputs": [
    {
     "name": "stdout",
     "output_type": "stream",
     "text": [
      "Beta: 1.1294041521276874\n"
     ]
    }
   ],
   "source": [
    "beta = covariance / market_variance\n",
    "print(\"Beta: %s\" % beta )"
   ]
  },
  {
   "cell_type": "markdown",
   "id": "received-frank",
   "metadata": {},
   "source": [
    "Beta is the rate of the slope of the fitted curve on 'Ret SPY' points too"
   ]
  }
 ],
 "metadata": {
  "kernelspec": {
   "display_name": "Python 3",
   "language": "python",
   "name": "python3"
  },
  "language_info": {
   "codemirror_mode": {
    "name": "ipython",
    "version": 3
   },
   "file_extension": ".py",
   "mimetype": "text/x-python",
   "name": "python",
   "nbconvert_exporter": "python",
   "pygments_lexer": "ipython3",
   "version": "3.8.6"
  }
 },
 "nbformat": 4,
 "nbformat_minor": 5
}
